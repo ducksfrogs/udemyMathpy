{
 "cells": [
  {
   "cell_type": "markdown",
   "metadata": {},
   "source": [
    "### ragrangu"
   ]
  },
  {
   "cell_type": "code",
   "execution_count": 3,
   "metadata": {},
   "outputs": [],
   "source": [
    "x = [0,20,40,60,80,100]\n",
    "y = [26.0, 48.6, 61.6, 71.2, 74.8, 75.2]"
   ]
  },
  {
   "cell_type": "code",
   "execution_count": 4,
   "metadata": {},
   "outputs": [
    {
     "data": {
      "text/plain": [
       "True"
      ]
     },
     "execution_count": 4,
     "metadata": {},
     "output_type": "execute_result"
    }
   ],
   "source": [
    "len(x) == len(y)"
   ]
  },
  {
   "cell_type": "code",
   "execution_count": 5,
   "metadata": {},
   "outputs": [],
   "source": [
    "m = len(x)\n",
    "n = m - 1"
   ]
  },
  {
   "cell_type": "code",
   "execution_count": 8,
   "metadata": {},
   "outputs": [
    {
     "name": "stdout",
     "output_type": "stream",
     "text": [
      "Enter X: 50\n",
      "For x = 50.000000.1, y= 66.9\n"
     ]
    }
   ],
   "source": [
    "xp = float(input('Enter X: '))\n",
    "yp = 0\n",
    "for i in range(n+1):\n",
    "    L = 1\n",
    "    for j in range(n+1):\n",
    "        if j != i:\n",
    "             L *=(xp - x[j])/(x[i]-x[j])\n",
    "    yp += y[i]*L\n",
    "print(\"For x = %f.1, y= %.1f\" %(xp, yp))    "
   ]
  },
  {
   "cell_type": "code",
   "execution_count": 1,
   "metadata": {},
   "outputs": [],
   "source": [
    "x = [0.0, 1.5, 2.8, 4.4, 6.1, 8.0]\n",
    "y = [0.0, 0.9, 2.5, 6.6, 7.7, 8.0]"
   ]
  },
  {
   "cell_type": "code",
   "execution_count": 7,
   "metadata": {},
   "outputs": [],
   "source": [
    "n = len(x)-1"
   ]
  },
  {
   "cell_type": "code",
   "execution_count": 8,
   "metadata": {},
   "outputs": [],
   "source": [
    "import numpy as np"
   ]
  },
  {
   "cell_type": "code",
   "execution_count": 9,
   "metadata": {},
   "outputs": [
    {
     "name": "stdout",
     "output_type": "stream",
     "text": [
      "[[0.  0.  0.  0.  0.  0. ]\n",
      " [0.9 0.  0.  0.  0.  0. ]\n",
      " [2.5 0.  0.  0.  0.  0. ]\n",
      " [6.6 0.  0.  0.  0.  0. ]\n",
      " [7.7 0.  0.  0.  0.  0. ]\n",
      " [8.  0.  0.  0.  0.  0. ]]\n"
     ]
    }
   ],
   "source": [
    "Dy = np.zeros((n+1, n+1))\n",
    "y = np.array(y)\n",
    "Dy[:,0] = y\n",
    "\n",
    "print(Dy)"
   ]
  },
  {
   "cell_type": "code",
   "execution_count": null,
   "metadata": {},
   "outputs": [],
   "source": []
  }
 ],
 "metadata": {
  "kernelspec": {
   "display_name": "Python 3",
   "language": "python",
   "name": "python3"
  },
  "language_info": {
   "codemirror_mode": {
    "name": "ipython",
    "version": 3
   },
   "file_extension": ".py",
   "mimetype": "text/x-python",
   "name": "python",
   "nbconvert_exporter": "python",
   "pygments_lexer": "ipython3",
   "version": "3.7.4"
  }
 },
 "nbformat": 4,
 "nbformat_minor": 2
}
